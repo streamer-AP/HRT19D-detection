{
 "cells": [
  {
   "cell_type": "code",
   "execution_count": 1,
   "metadata": {},
   "outputs": [],
   "source": [
    "import numpy as np"
   ]
  },
  {
   "cell_type": "code",
   "execution_count": 2,
   "metadata": {},
   "outputs": [
    {
     "name": "stdout",
     "output_type": "stream",
     "text": [
      "[[0.     0.64   0.64   ... 0.3756 0.61   0.278 ]\n",
      " [0.06   0.     0.71   ... 0.9821 4.85   2.259 ]\n",
      " [0.     0.     0.     ... 0.3537 0.4    0.191 ]\n",
      " ...\n",
      " [0.3    0.     0.3    ... 0.1404 0.06   0.118 ]\n",
      " [0.96   0.     0.     ... 0.1147 0.05   0.078 ]\n",
      " [0.     0.     0.65   ... 0.125  0.05   0.04  ]] ['1' '1' '1' ... '0' '0' '0']\n",
      "[[0.21   0.28   0.5    ... 0.5114 1.01   1.028 ]\n",
      " [0.     0.     0.     ... 0.3537 0.4    0.191 ]\n",
      " [0.     0.69   0.34   ... 0.3728 0.61   0.261 ]\n",
      " ...\n",
      " [0.     0.     0.     ... 0.1    0.01   0.006 ]\n",
      " [0.     0.     0.     ... 0.1727 0.05   0.019 ]\n",
      " [0.     0.     1.19   ... 0.1    0.01   0.024 ]] ['1' '1' '1' ... '0' '0' '0']\n"
     ]
    }
   ],
   "source": [
    "def load_data(file_path):\n",
    "    data=[]\n",
    "    label=[]\n",
    "    with open(file_path,\"r\") as data_file:\n",
    "        raw_data=data_file.readlines()\n",
    "        for raw_line in raw_data:\n",
    "            sample=raw_line[:-1]\n",
    "            sample=sample.split(\",\")\n",
    "            label.append(sample[-1])\n",
    "            sample=np.array([float(feature) for feature in sample[:-1]])\n",
    "            sample[-3]/=10\n",
    "            sample[-2]/=100\n",
    "            sample[-1]/=1000\n",
    "            data.append(sample)\n",
    "    return np.array(data),np.array(label)\n",
    "train_data,train_label=load_data(\"train.data\")\n",
    "test_data,test_label=load_data(\"test.data\")\n",
    "print(train_data,train_label)\n",
    "print(test_data,test_label)"
   ]
  },
  {
   "cell_type": "code",
   "execution_count": 3,
   "metadata": {},
   "outputs": [
    {
     "data": {
      "text/plain": [
       "57"
      ]
     },
     "execution_count": 3,
     "metadata": {},
     "output_type": "execute_result"
    }
   ],
   "source": [
    "len(test_data[1])"
   ]
  },
  {
   "cell_type": "code",
   "execution_count": 4,
   "metadata": {},
   "outputs": [],
   "source": [
    "import tensorflow as tf\n",
    "from tensorflow import keras\n",
    "from tensorflow.keras.models import Sequential\n",
    "from tensorflow.keras.layers import Dense, Dropout"
   ]
  },
  {
   "cell_type": "code",
   "execution_count": 5,
   "metadata": {},
   "outputs": [],
   "source": [
    "model=Sequential()\n",
    "model.add(Dense(20, activation='sigmoid', input_shape=(57,)))\n",
    "model.add(Dropout(0.2))\n",
    "model.add(Dense(28, activation='softmax'))\n",
    "model.add(Dropout(0.2))\n",
    "\n",
    "model.add(Dense(1, activation='sigmoid'))"
   ]
  },
  {
   "cell_type": "code",
   "execution_count": 6,
   "metadata": {},
   "outputs": [],
   "source": [
    "model.compile(optimizer='adam',\n",
    "              loss='binary_crossentropy',\n",
    "              metrics=['accuracy'])"
   ]
  },
  {
   "cell_type": "code",
   "execution_count": 7,
   "metadata": {},
   "outputs": [
    {
     "name": "stdout",
     "output_type": "stream",
     "text": [
      "Train on 3224 samples, validate on 1377 samples\n",
      "Epoch 1/60\n",
      "3224/3224 [==============================] - 1s 198us/step - loss: 0.7001 - acc: 0.4110 - val_loss: 0.6920 - val_acc: 0.5185\n",
      "Epoch 2/60\n",
      "3224/3224 [==============================] - 0s 22us/step - loss: 0.6859 - acc: 0.6014 - val_loss: 0.6791 - val_acc: 0.6057\n",
      "Epoch 3/60\n",
      "3224/3224 [==============================] - 0s 21us/step - loss: 0.6729 - acc: 0.6067 - val_loss: 0.6633 - val_acc: 0.6057\n",
      "Epoch 4/60\n",
      "3224/3224 [==============================] - 0s 21us/step - loss: 0.6548 - acc: 0.6079 - val_loss: 0.6398 - val_acc: 0.6057\n",
      "Epoch 5/60\n",
      "3224/3224 [==============================] - 0s 23us/step - loss: 0.6310 - acc: 0.6259 - val_loss: 0.6110 - val_acc: 0.6354\n",
      "Epoch 6/60\n",
      "3224/3224 [==============================] - 0s 18us/step - loss: 0.6051 - acc: 0.7019 - val_loss: 0.5817 - val_acc: 0.7712\n",
      "Epoch 7/60\n",
      "3224/3224 [==============================] - 0s 17us/step - loss: 0.5776 - acc: 0.7866 - val_loss: 0.5540 - val_acc: 0.8519\n",
      "Epoch 8/60\n",
      "3224/3224 [==============================] - 0s 21us/step - loss: 0.5535 - acc: 0.8356 - val_loss: 0.5293 - val_acc: 0.8925\n",
      "Epoch 9/60\n",
      "3224/3224 [==============================] - 0s 21us/step - loss: 0.5336 - acc: 0.8583 - val_loss: 0.5077 - val_acc: 0.9027\n",
      "Epoch 10/60\n",
      "3224/3224 [==============================] - 0s 23us/step - loss: 0.5096 - acc: 0.8738 - val_loss: 0.4870 - val_acc: 0.9092\n",
      "Epoch 11/60\n",
      "3224/3224 [==============================] - 0s 21us/step - loss: 0.4969 - acc: 0.8790 - val_loss: 0.4660 - val_acc: 0.9107\n",
      "Epoch 12/60\n",
      "3224/3224 [==============================] - 0s 17us/step - loss: 0.4766 - acc: 0.8868 - val_loss: 0.4404 - val_acc: 0.9121\n",
      "Epoch 13/60\n",
      "3224/3224 [==============================] - 0s 23us/step - loss: 0.4530 - acc: 0.8874 - val_loss: 0.4152 - val_acc: 0.9179\n",
      "Epoch 14/60\n",
      "3224/3224 [==============================] - 0s 24us/step - loss: 0.4346 - acc: 0.8896 - val_loss: 0.3943 - val_acc: 0.9216\n",
      "Epoch 15/60\n",
      "3224/3224 [==============================] - 0s 22us/step - loss: 0.4197 - acc: 0.8930 - val_loss: 0.3776 - val_acc: 0.9259\n",
      "Epoch 16/60\n",
      "3224/3224 [==============================] - 0s 22us/step - loss: 0.4099 - acc: 0.9001 - val_loss: 0.3641 - val_acc: 0.9281\n",
      "Epoch 17/60\n",
      "3224/3224 [==============================] - 0s 24us/step - loss: 0.3976 - acc: 0.8970 - val_loss: 0.3523 - val_acc: 0.9296\n",
      "Epoch 18/60\n",
      "3224/3224 [==============================] - 0s 18us/step - loss: 0.3911 - acc: 0.8998 - val_loss: 0.3415 - val_acc: 0.9288\n",
      "Epoch 19/60\n",
      "3224/3224 [==============================] - 0s 21us/step - loss: 0.3814 - acc: 0.9017 - val_loss: 0.3319 - val_acc: 0.9310\n",
      "Epoch 20/60\n",
      "3224/3224 [==============================] - 0s 25us/step - loss: 0.3727 - acc: 0.9014 - val_loss: 0.3231 - val_acc: 0.9339\n",
      "Epoch 21/60\n",
      "3224/3224 [==============================] - 0s 23us/step - loss: 0.3701 - acc: 0.9001 - val_loss: 0.3154 - val_acc: 0.9361\n",
      "Epoch 22/60\n",
      "3224/3224 [==============================] - 0s 19us/step - loss: 0.3658 - acc: 0.9038 - val_loss: 0.3085 - val_acc: 0.9346\n",
      "Epoch 23/60\n",
      "3224/3224 [==============================] - 0s 21us/step - loss: 0.3594 - acc: 0.9001 - val_loss: 0.3021 - val_acc: 0.9346\n",
      "Epoch 24/60\n",
      "3224/3224 [==============================] - 0s 23us/step - loss: 0.3615 - acc: 0.9029 - val_loss: 0.2972 - val_acc: 0.9339\n",
      "Epoch 25/60\n",
      "3224/3224 [==============================] - 0s 23us/step - loss: 0.3549 - acc: 0.9054 - val_loss: 0.2923 - val_acc: 0.9339\n",
      "Epoch 26/60\n",
      "3224/3224 [==============================] - 0s 20us/step - loss: 0.3479 - acc: 0.9113 - val_loss: 0.2876 - val_acc: 0.9332\n",
      "Epoch 27/60\n",
      "3224/3224 [==============================] - 0s 21us/step - loss: 0.3405 - acc: 0.9122 - val_loss: 0.2833 - val_acc: 0.9325\n",
      "Epoch 28/60\n",
      "3224/3224 [==============================] - 0s 17us/step - loss: 0.3401 - acc: 0.9128 - val_loss: 0.2791 - val_acc: 0.9332\n",
      "Epoch 29/60\n",
      "3224/3224 [==============================] - 0s 15us/step - loss: 0.3290 - acc: 0.9166 - val_loss: 0.2745 - val_acc: 0.9354\n",
      "Epoch 30/60\n",
      "3224/3224 [==============================] - 0s 24us/step - loss: 0.3295 - acc: 0.9181 - val_loss: 0.2704 - val_acc: 0.9346\n",
      "Epoch 31/60\n",
      "3224/3224 [==============================] - 0s 24us/step - loss: 0.3235 - acc: 0.9159 - val_loss: 0.2670 - val_acc: 0.9361\n",
      "Epoch 32/60\n",
      "3224/3224 [==============================] - 0s 19us/step - loss: 0.3213 - acc: 0.9181 - val_loss: 0.2635 - val_acc: 0.9346\n",
      "Epoch 33/60\n",
      "3224/3224 [==============================] - 0s 19us/step - loss: 0.3231 - acc: 0.9169 - val_loss: 0.2601 - val_acc: 0.9354\n",
      "Epoch 34/60\n",
      "3224/3224 [==============================] - 0s 20us/step - loss: 0.3250 - acc: 0.9147 - val_loss: 0.2574 - val_acc: 0.9354\n",
      "Epoch 35/60\n",
      "3224/3224 [==============================] - 0s 22us/step - loss: 0.3085 - acc: 0.9181 - val_loss: 0.2546 - val_acc: 0.9383\n",
      "Epoch 36/60\n",
      "3224/3224 [==============================] - 0s 21us/step - loss: 0.3071 - acc: 0.9234 - val_loss: 0.2512 - val_acc: 0.9397\n",
      "Epoch 37/60\n",
      "3224/3224 [==============================] - 0s 22us/step - loss: 0.3077 - acc: 0.9212 - val_loss: 0.2486 - val_acc: 0.9383\n",
      "Epoch 38/60\n",
      "3224/3224 [==============================] - 0s 20us/step - loss: 0.3018 - acc: 0.9194 - val_loss: 0.2460 - val_acc: 0.9412\n",
      "Epoch 39/60\n",
      "3224/3224 [==============================] - 0s 19us/step - loss: 0.3099 - acc: 0.9197 - val_loss: 0.2439 - val_acc: 0.9419\n",
      "Epoch 40/60\n",
      "3224/3224 [==============================] - 0s 18us/step - loss: 0.2948 - acc: 0.9225 - val_loss: 0.2416 - val_acc: 0.9426\n",
      "Epoch 41/60\n",
      "3224/3224 [==============================] - 0s 17us/step - loss: 0.3081 - acc: 0.9172 - val_loss: 0.2400 - val_acc: 0.9434\n",
      "Epoch 42/60\n",
      "3224/3224 [==============================] - 0s 19us/step - loss: 0.2982 - acc: 0.9166 - val_loss: 0.2382 - val_acc: 0.9412\n",
      "Epoch 43/60\n",
      "3224/3224 [==============================] - 0s 18us/step - loss: 0.2981 - acc: 0.9187 - val_loss: 0.2365 - val_acc: 0.9426\n",
      "Epoch 44/60\n",
      "3224/3224 [==============================] - 0s 21us/step - loss: 0.2856 - acc: 0.9256 - val_loss: 0.2343 - val_acc: 0.9426\n",
      "Epoch 45/60\n",
      "3224/3224 [==============================] - 0s 18us/step - loss: 0.2940 - acc: 0.9206 - val_loss: 0.2326 - val_acc: 0.9426\n",
      "Epoch 46/60\n",
      "3224/3224 [==============================] - 0s 19us/step - loss: 0.2941 - acc: 0.9200 - val_loss: 0.2314 - val_acc: 0.9419\n",
      "Epoch 47/60\n",
      "3224/3224 [==============================] - 0s 17us/step - loss: 0.2887 - acc: 0.9218 - val_loss: 0.2303 - val_acc: 0.9426\n",
      "Epoch 48/60\n",
      "3224/3224 [==============================] - 0s 19us/step - loss: 0.2866 - acc: 0.9212 - val_loss: 0.2292 - val_acc: 0.9405\n",
      "Epoch 49/60\n",
      "3224/3224 [==============================] - 0s 22us/step - loss: 0.2832 - acc: 0.9200 - val_loss: 0.2283 - val_acc: 0.9419\n",
      "Epoch 50/60\n",
      "3224/3224 [==============================] - 0s 22us/step - loss: 0.2748 - acc: 0.9187 - val_loss: 0.2271 - val_acc: 0.9426\n",
      "Epoch 51/60\n",
      "3224/3224 [==============================] - 0s 26us/step - loss: 0.2860 - acc: 0.9116 - val_loss: 0.2263 - val_acc: 0.9426\n",
      "Epoch 52/60\n",
      "3224/3224 [==============================] - 0s 22us/step - loss: 0.2767 - acc: 0.9197 - val_loss: 0.2248 - val_acc: 0.9426\n",
      "Epoch 53/60\n",
      "3224/3224 [==============================] - 0s 21us/step - loss: 0.2685 - acc: 0.9274 - val_loss: 0.2222 - val_acc: 0.9397\n",
      "Epoch 54/60\n",
      "3224/3224 [==============================] - 0s 20us/step - loss: 0.2775 - acc: 0.9209 - val_loss: 0.2223 - val_acc: 0.9434\n",
      "Epoch 55/60\n",
      "3224/3224 [==============================] - 0s 18us/step - loss: 0.2779 - acc: 0.9175 - val_loss: 0.2217 - val_acc: 0.9434\n",
      "Epoch 56/60\n",
      "3224/3224 [==============================] - 0s 22us/step - loss: 0.2658 - acc: 0.9265 - val_loss: 0.2201 - val_acc: 0.9434\n",
      "Epoch 57/60\n",
      "3224/3224 [==============================] - 0s 18us/step - loss: 0.2720 - acc: 0.9190 - val_loss: 0.2190 - val_acc: 0.9434\n",
      "Epoch 58/60\n",
      "3224/3224 [==============================] - 0s 23us/step - loss: 0.2704 - acc: 0.9212 - val_loss: 0.2200 - val_acc: 0.9434\n",
      "Epoch 59/60\n",
      "3224/3224 [==============================] - 0s 20us/step - loss: 0.2759 - acc: 0.9116 - val_loss: 0.2199 - val_acc: 0.9434\n",
      "Epoch 60/60\n",
      "3224/3224 [==============================] - 0s 18us/step - loss: 0.2678 - acc: 0.9228 - val_loss: 0.2182 - val_acc: 0.9434\n"
     ]
    }
   ],
   "source": [
    "history=model.fit(train_data,\n",
    "                    train_label,\n",
    "                    epochs=60,\n",
    "                    batch_size=100,\n",
    "                    validation_data=(test_data, test_label),\n",
    "                    verbose=1)"
   ]
  },
  {
   "cell_type": "code",
   "execution_count": 8,
   "metadata": {},
   "outputs": [],
   "source": [
    "import matplotlib.pyplot as plt"
   ]
  },
  {
   "cell_type": "code",
   "execution_count": 9,
   "metadata": {},
   "outputs": [],
   "source": [
    "history_dict=history.history\n",
    "history_dict.keys()\n",
    "dict_keys=['loss', 'val_loss', 'val_acc', 'acc']"
   ]
  },
  {
   "cell_type": "code",
   "execution_count": 10,
   "metadata": {},
   "outputs": [
    {
     "data": {
      "image/png": "[encoded data removed]",
      "text/plain": [
       "<Figure size 432x288 with 1 Axes>"
      ]
     },
     "metadata": {
      "needs_background": "light"
     },
     "output_type": "display_data"
    }
   ],
   "source": [
    "%matplotlib inline\n",
    "acc = history.history['acc']\n",
    "val_acc = history.history['val_acc']\n",
    "loss = history.history['loss']\n",
    "val_loss = history.history['val_loss']\n",
    "epochs = range(1, len(acc) + 1)\n",
    "plt.plot(epochs, loss, 'bo', label='Training loss')\n",
    "plt.plot(epochs, val_loss, 'b', label='Validation loss')\n",
    "plt.title('Training and validation loss')\n",
    "plt.xlabel('Epochs')\n",
    "plt.ylabel('Loss')\n",
    "plt.legend()\n",
    "plt.show()"
   ]
  },
  {
   "cell_type": "code",
   "execution_count": 11,
   "metadata": {},
   "outputs": [
    {
     "data": {
      "image/png": "[encoded data removed]",
      "text/plain": [
       "<Figure size 432x288 with 1 Axes>"
      ]
     },
     "metadata": {
      "needs_background": "light"
     },
     "output_type": "display_data"
    }
   ],
   "source": [
    "acc_values=history_dict['acc']\n",
    "val_acc_values=history_dict['val_acc']\n",
    "plt.plot(epochs, acc, 'bo', label='Training acc')\n",
    "plt.plot(epochs, val_acc, 'b', label='Validation acc')\n",
    "plt.title('Training and validation accuracy')\n",
    "plt.xlabel('Epochs')\n",
    "plt.ylabel('Accuracy')\n",
    "plt.legend()\n",
    "plt.show()"
   ]
  },
  {
   "cell_type": "code",
   "execution_count": 14,
   "metadata": {},
   "outputs": [],
   "source": [
    "def load_prediction_data(file_path):\n",
    "    data=[]\n",
    "    with open(file_path,\"r\") as data_file:\n",
    "        raw_data=data_file.readlines()\n",
    "        for raw_line in raw_data:\n",
    "            sample=raw_line[:-1]\n",
    "            sample=sample.split(\",\")\n",
    "            sample=np.array([float(feature) for feature in sample])\n",
    "            sample[-3]/=10\n",
    "            sample[-2]/=100\n",
    "            sample[-1]/=1000\n",
    "            data.append(sample)\n",
    "    return np.array(data)\n",
    "prediction_data=load_prediction_data(\"get_the_flag.data\")"
   ]
  },
  {
   "cell_type": "code",
   "execution_count": 15,
   "metadata": {},
   "outputs": [],
   "source": [
    "predictions = model.predict(prediction_data)"
   ]
  },
  {
   "cell_type": "code",
   "execution_count": 16,
   "metadata": {},
   "outputs": [
    {
     "data": {
      "image/png": "[encoded data removed]",
      "text/plain": [
       "<Figure size 3600x72 with 1 Axes>"
      ]
     },
     "metadata": {
      "needs_background": "light"
     },
     "output_type": "display_data"
    }
   ],
   "source": [
    "data_show=[]\n",
    "for i in predictions:\n",
    "    if i[0]<0.5:\n",
    "        data_show.append(0)\n",
    "    else:\n",
    "        data_show.append(1)\n",
    "plt.rcParams['figure.figsize'] = (50.0, 1.0) \n",
    "plt.scatter(range(len(data_show)),data_show,linewidth=0.1,s=10)\n",
    "plt.show()"
   ]
  },
  {
   "cell_type": "code",
   "execution_count": null,
   "metadata": {},
   "outputs": [],
   "source": []
  }
 ],
 "metadata": {
  "kernelspec": {
   "display_name": "Python 3",
   "language": "python",
   "name": "python3"
  },
  "language_info": {
   "codemirror_mode": {
    "name": "ipython",
    "version": 3
   },
   "file_extension": ".py",
   "mimetype": "text/x-python",
   "name": "python",
   "nbconvert_exporter": "python",
   "pygments_lexer": "ipython3",
   "version": "3.6.7"
  }
 },
 "nbformat": 4,
 "nbformat_minor": 2
}
